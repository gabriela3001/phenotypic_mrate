{
 "cells": [
  {
   "cell_type": "code",
   "execution_count": 1,
   "metadata": {},
   "outputs": [],
   "source": [
    "from model import *\n",
    "from msb import *\n",
    "import numpy as np\n",
    "import matplotlib.pyplot as plt\n",
    "import scipy.stats\n",
    "import pickle\n",
    "from sklearn.model_selection import ParameterGrid"
   ]
  },
  {
   "cell_type": "code",
   "execution_count": 2,
   "metadata": {},
   "outputs": [],
   "source": [
    "# Initialise Parameters\n",
    "\n",
    "noise_levels = np.logspace(-6, np.log10(0.5), 30)\n",
    "param_grid_dict = {'s': [0.01, 0.03,0.05, 0.1], 'tau':[5,10,100,200,500], 'mu':np.logspace(np.log10(0.00004),np.log10(0.003),5)}\n",
    "param_grid = list(ParameterGrid(param_grid_dict))\n",
    "\n",
    "genotype_names_3 = []\n",
    "for i in range(3):\n",
    "    for j in range(2):\n",
    "        for k in range(5):\n",
    "            genotype_names_3.append((i,j,k))"
   ]
  },
  {
   "cell_type": "code",
   "execution_count": 3,
   "metadata": {},
   "outputs": [
    {
     "data": {
      "text/plain": [
       "array([1.00000000e-06, 1.57223046e-06, 2.47190863e-06, 3.88641006e-06,\n",
       "       6.11033229e-06, 9.60685056e-06, 1.51041831e-05, 2.37472568e-05,\n",
       "       3.73361606e-05, 5.87010492e-05, 9.22915778e-05, 1.45103630e-04,\n",
       "       2.28136348e-04, 3.58682916e-04, 5.63932207e-04, 8.86631396e-04,\n",
       "       1.39398889e-03, 2.19167180e-03, 3.44581317e-03, 5.41761244e-03,\n",
       "       8.51773532e-03, 1.33918430e-02, 2.10550635e-02, 3.31034122e-02,\n",
       "       5.20461931e-02, 8.18286104e-02, 1.28653434e-01, 2.02272848e-01,\n",
       "       3.18019534e-01, 5.00000000e-01])"
      ]
     },
     "execution_count": 3,
     "metadata": {},
     "output_type": "execute_result"
    }
   ],
   "source": [
    "noise_levels"
   ]
  },
  {
   "cell_type": "code",
   "execution_count": null,
   "metadata": {},
   "outputs": [
    {
     "name": "stdout",
     "output_type": "stream",
     "text": [
      "0\n",
      "1\n",
      "2\n",
      "3\n",
      "4\n",
      "5\n",
      "6\n",
      "7\n",
      "8\n",
      "9\n",
      "10\n",
      "11\n",
      "12\n",
      "13\n",
      "14\n",
      "15\n",
      "16\n",
      "17\n",
      "18\n",
      "19\n",
      "20\n",
      "21\n",
      "22\n",
      "23\n",
      "24\n",
      "25\n",
      "26\n",
      "27\n",
      "28\n",
      "29\n",
      "30\n",
      "31\n",
      "32\n",
      "33\n",
      "34\n",
      "35\n",
      "36\n",
      "37\n",
      "38\n",
      "39\n",
      "40\n",
      "41\n",
      "42\n",
      "43\n",
      "44\n",
      "45\n",
      "46\n",
      "47\n",
      "48\n",
      "49\n",
      "50\n",
      "51\n",
      "52\n",
      "53\n",
      "54\n",
      "55\n",
      "56\n",
      "57\n"
     ]
    }
   ],
   "source": [
    "# Run Deterministic Simulation for Parameters defined previously\n",
    "\n",
    "results_msb = []\n",
    "\n",
    "for i in range(len(param_grid)):\n",
    "    print(i)\n",
    "    msb_pop = [msb_simulation(genotype_names_3, 'MSB', param_grid[i]['s'], -1, param_grid[i]['mu'], param_grid[i]['tau'], noise, noise) for noise in noise_levels]\n",
    "    results_msb.append(msb_pop)"
   ]
  },
  {
   "cell_type": "code",
   "execution_count": null,
   "metadata": {},
   "outputs": [],
   "source": [
    "# Plot MSB value for different levels of Switching Rates for example parameter sets\n",
    "\n",
    "example_param = 1\n",
    "\n",
    "fig, ax = plt.subplots()\n",
    "\n",
    "ax.plot(noise_levels, [results_msb[example_param][sr]['mpf'] for sr in range(len(noise_levels))], linestyle = 'dotted', c = 'k')\n",
    "ax.scatter(noise_levels, [results_msb[example_param][sr]['mpf'] for sr in range(len(noise_levels))], marker = '*', c = 'r')\n",
    "ax.set_xlabel('Switching Rate')\n",
    "ax.set_xscale('log')\n",
    "ax.set_ylabel('Mean Population Fitness at MSB')\n",
    "ax.set_title('Evolution of mean population fitness along \\n switching rate for mu = ' + str(param_grid[example_param]['mu']) + ' tau = ' + str(param_grid[example_param]['tau']) + ' and s = ' + str(param_grid[example_param]['s']), y = 1.08)\n",
    "\n",
    "plt.show()"
   ]
  },
  {
   "cell_type": "code",
   "execution_count": null,
   "metadata": {},
   "outputs": [],
   "source": [
    "example_param = 5\n",
    "\n",
    "fig, ax = plt.subplots()\n",
    "\n",
    "ax.plot(noise_levels, [results_msb[example_param][sr]['mpf'] for sr in range(len(noise_levels))], linestyle = 'dotted', c = 'k')\n",
    "ax.scatter(noise_levels, [results_msb[example_param][sr]['mpf'] for sr in range(len(noise_levels))], marker = '*', c = 'r')\n",
    "ax.set_xlabel('Switching Rate')\n",
    "ax.set_xscale('log')\n",
    "ax.set_ylabel('Mean Population Fitness at MSB')\n",
    "ax.set_title('Evolution of mean population fitness along \\n switching rate for mu = ' + str(param_grid[example_param]['mu']) + ' tau = ' + str(param_grid[example_param]['tau']) + ' and s = ' + str(param_grid[example_param]['s']), y = 1.08)\n",
    "\n",
    "plt.show()"
   ]
  },
  {
   "cell_type": "code",
   "execution_count": null,
   "metadata": {},
   "outputs": [],
   "source": [
    "# Plot Proportion of Mutator for example parameter sets\n",
    "\n",
    "example_param = 1\n",
    "\n",
    "fig, ax = plt.subplots()\n",
    "\n",
    "ax.plot(noise_levels, [results_msb[example_param][sr]['pm'] for sr in range(len(noise_levels))], linestyle = 'dotted', c = 'k')\n",
    "ax.scatter(noise_levels, [results_msb[example_param][sr]['pm'] for sr in range(len(noise_levels))], marker = '*', c = 'b')\n",
    "ax.set_xlabel('Switching Rate')\n",
    "ax.set_xscale('log')\n",
    "ax.set_ylabel('Mutator Proportion at MSB')\n",
    "ax.set_title('Evolution of mutator proportion at MSB along \\n switching rate for mu = ' + str(param_grid[example_param]['mu']) + ' tau = ' + str(param_grid[example_param]['tau']) + ' and s = ' + str(param_grid[example_param]['s']), y = 1.08)\n",
    "\n",
    "plt.show()"
   ]
  },
  {
   "cell_type": "code",
   "execution_count": null,
   "metadata": {},
   "outputs": [],
   "source": [
    "results_msb[example_param][0]"
   ]
  },
  {
   "cell_type": "code",
   "execution_count": null,
   "metadata": {},
   "outputs": [],
   "source": [
    "example_param = 5\n",
    "\n",
    "fig, ax = plt.subplots()\n",
    "\n",
    "ax.plot(noise_levels, [results_msb[example_param][sr]['pm'] for sr in range(len(noise_levels))], c = 'k')\n",
    "#ax.plot(noise_levels, [results_msb[example_param][sr]['pm'] for sr in range(len(noise_levels))], linestyle = 'dotted', c = 'k')\n",
    "#ax.scatter(noise_levels, [results_msb[example_param][sr]['pm'] for sr in range(len(noise_levels))], marker = '*', c = 'b')\n",
    "ax.set_xlabel('Switching Rate', fontsize = 14)\n",
    "ax.set_xscale('log')\n",
    "ax.set_ylabel('Mutator Proportion at MSB', fontsize = 14)\n",
    "#ax.set_title('Evolution of mutator proportion at MSB along \\n switching rate for mu = ' + str(param_grid[example_param]['mu']) + ' tau = ' + str(param_grid[example_param]['tau']) + ' and s = ' + str(param_grid[example_param]['s']), y = 1.08)\n",
    "plt.savefig('proportion_mutator_MAR6.jpg', dpi = 400, bbox_inches = 'tight')\n",
    "plt.show()"
   ]
  },
  {
   "cell_type": "code",
   "execution_count": null,
   "metadata": {},
   "outputs": [],
   "source": [
    "# Save MSB data as a pickle file\n",
    "\n",
    "with open('results_MSB_paramgrid_JUNE.pkl', 'wb') as f:\n",
    "    pickle.dump([param_grid, results_msb], f)"
   ]
  },
  {
   "cell_type": "code",
   "execution_count": null,
   "metadata": {},
   "outputs": [],
   "source": [
    "def mutator_single_mut(genotypes_names, pop_vec):\n",
    "    p = 0\n",
    "    for g in range(len(genotypes_names)):\n",
    "        if (genotypes_names[g][0] > 0 or genotypes_names[g][2] > 0) and genotypes_names[g][1] == 1:\n",
    "            p += pop_vec[g]\n",
    "    return(p)\n",
    "\n",
    "def baseline_single_mut(genotypes_names, pop_vec):\n",
    "    p = 0\n",
    "    for g in range(len(genotypes_names)):\n",
    "        if (genotypes_names[g][0] > 0 or genotypes_names[g][2] == 0) and genotypes_names[g][1] == 0:\n",
    "            p += pop_vec[g]\n",
    "    return(p)\n",
    "\n",
    "def baseline_nomut(genotypes_names, pop_vec):\n",
    "    p = 0\n",
    "    for g in range(len(genotypes_names)):\n",
    "        if (genotypes_names[g][0] == 0 or genotypes_names[g][2] == 0) and genotypes_names[g][1] == 0:\n",
    "            p += pop_vec[g]\n",
    "    return(p)\n",
    "\n",
    "def pS_proportion(genotypes_names, pop_vec):\n",
    "    return(mutator_single_mut(genotypes_names, pop_vec) + baseline_single_mut(genotypes_names, pop_vec))"
   ]
  },
  {
   "cell_type": "code",
   "execution_count": null,
   "metadata": {},
   "outputs": [],
   "source": [
    "plt.plot(noise_levels, [mutator_single_mut(genotype_names_3, results_msb[example_param][sr]['pop']) / pS_proportion(genotype_names_3, results_msb[example_param][sr]['pop']) for sr in range(len(noise_levels))], c = 'k')\n",
    "plt.xscale('log')\n",
    "plt.tick_params(labelsize = 13)\n",
    "plt.xlabel('Switching rate $\\gamma$', fontsize = 14)\n",
    "plt.ylabel('Proportion of mutators \\n among mutants', fontsize = 14)\n",
    "plt.savefig('proportion_mutators_mutants_MAR6.jpg', dpi = 400, bbox_inches = 'tight')"
   ]
  },
  {
   "cell_type": "code",
   "execution_count": null,
   "metadata": {},
   "outputs": [],
   "source": [
    "plt.plot(noise_levels, [baseline_single_mut(genotype_names_3, results_msb[example_param][sr]['pop']) / baseline_nomut(genotype_names_3, results_msb[example_param][sr]['pop']) for sr in range(len(noise_levels))], c = 'k')\n",
    "plt.ylabel('$m_1$/$m_0$', fontsize = 14)\n",
    "plt.xscale('log')\n",
    "plt.tick_params(labelsize = 13)\n",
    "plt.xlabel('Switching rate $\\gamma$', fontsize = 14)\n",
    "plt.savefig('association_mutators_mutants_MAR6.jpg', dpi = 400, bbox_inches = 'tight')"
   ]
  }
 ],
 "metadata": {
  "kernelspec": {
   "display_name": "Python 3",
   "language": "python",
   "name": "python3"
  },
  "language_info": {
   "codemirror_mode": {
    "name": "ipython",
    "version": 3
   },
   "file_extension": ".py",
   "mimetype": "text/x-python",
   "name": "python",
   "nbconvert_exporter": "python",
   "pygments_lexer": "ipython3",
   "version": "3.8.8"
  }
 },
 "nbformat": 4,
 "nbformat_minor": 2
}
