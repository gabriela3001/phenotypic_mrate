{
 "cells": [
  {
   "cell_type": "code",
   "execution_count": 55,
   "metadata": {},
   "outputs": [],
   "source": [
    "from approximations import *\n",
    "from aspergillus_msb import *\n",
    "import matplotlib.pyplot as plt\n",
    "import pickle\n",
    "import os\n",
    "from scipy.stats import pearsonr\n",
    "import scipy.stats as st"
   ]
  },
  {
   "cell_type": "code",
   "execution_count": 56,
   "metadata": {},
   "outputs": [],
   "source": [
    "with open('MSB_NK_landscape_1.txt', 'rb') as f:\n",
    "    landscape_1_results = pickle.load(f)\n",
    "with open('MSB_NK_landscape_3.txt', 'rb') as f:\n",
    "    landscape_3_results = pickle.load(f)\n",
    "with open('MSB_NK_landscape_5.txt', 'rb') as f:\n",
    "    landscape_5_results = pickle.load(f)\n",
    "with open('NK_landscapes_6.txt', 'rb') as f:\n",
    "    landscapes = pickle.load(f)"
   ]
  },
  {
   "cell_type": "code",
   "execution_count": 57,
   "metadata": {},
   "outputs": [],
   "source": [
    "files_appearance_NK1 = ['results_appearance_NK1_param2_5.txt',\n",
    " 'results_appearance_NK1_param2_8.txt', \n",
    "'results_appearance_NK1_param2_11.txt',\n",
    " 'results_appearance_NK1_param2_14.txt',\n",
    " 'results_appearance_NK1_param2_17.txt',\n",
    " 'results_appearance_NK1_param2_20.txt',\n",
    " 'results_appearance_NK1_param2_23.txt',\n",
    " 'results_appearance_NK1_param2_26.txt',\n",
    " 'results_appearance_NK1_param2_29.txt']\n",
    "\n",
    "files_appearance_NK3 = ['results_appearance_NK3_param2_5.txt',\n",
    " 'results_appearance_NK3_param2_8.txt', \n",
    "'results_appearance_NK3_param2_11.txt',\n",
    " 'results_appearance_NK3_param2_14.txt',\n",
    " 'results_appearance_NK3_param2_17.txt',\n",
    " 'results_appearance_NK3_param2_20.txt',\n",
    " 'results_appearance_NK3_param2_23.txt',\n",
    " 'results_appearance_NK3_param2_26.txt',\n",
    " 'results_appearance_NK3_param2_29.txt']\n",
    "\n",
    "files_appearance_NK3 = ['results_appearance_NK3_param2_5.txt',\n",
    " 'results_appearance_NK3_param2_8.txt', \n",
    " 'results_appearance_NK3_param2_11.txt',\n",
    " 'results_appearance_NK3_param2_14.txt',\n",
    " 'results_appearance_NK3_param2_17.txt',\n",
    " 'results_appearance_NK3_param2_20.txt',\n",
    " 'results_appearance_NK3_param2_23.txt',\n",
    " 'results_appearance_NK3_param2_26.txt',\n",
    " 'results_appearance_NK3_param2_29.txt']\n",
    "\n",
    "files_appearance_NK5 = ['results_appearance_NK5_param2_5.txt',\n",
    " 'results_appearance_NK5_param2_8.txt', \n",
    "'results_appearance_NK5_param2_11.txt',\n",
    " 'results_appearance_NK5_param2_14.txt',\n",
    " 'results_appearance_NK5_param2_17.txt',\n",
    " 'results_appearance_NK5_param2_20.txt',\n",
    " 'results_appearance_NK5_param2_23.txt',\n",
    " 'results_appearance_NK5_param2_26.txt',\n",
    " 'results_appearance_NK5_param2_29.txt']"
   ]
  },
  {
   "cell_type": "code",
   "execution_count": 58,
   "metadata": {},
   "outputs": [],
   "source": [
    "appearances_NK1 = []\n",
    "for f in files_appearance_NK1:\n",
    "    with open('Old Results/' + f, 'rb') as f:\n",
    "        appearances_NK1.append(pickle.load(f)['appearances'])\n",
    "appearances_NK3 = []\n",
    "for f in files_appearance_NK3:\n",
    "    with open('Old Results/' + f, 'rb') as f:\n",
    "        appearances_NK3.append(pickle.load(f)['appearances'])\n",
    "appearances_NK5 = []\n",
    "for f in files_appearance_NK5:\n",
    "    with open('Old Results/' + f, 'rb') as f:\n",
    "        appearances_NK5.append(pickle.load(f)['appearances'])"
   ]
  },
  {
   "cell_type": "code",
   "execution_count": 59,
   "metadata": {},
   "outputs": [],
   "source": [
    "genotypes = [tuple(''.join([str(i) for i in x])) for x in landscapes[1].keys()]\n",
    "all_genotypes = []\n",
    "for i in range(2):\n",
    "    for g in genotypes:\n",
    "        all_genotypes.append((i, g))\n",
    "initial_genotypes = [tuple('111100'), tuple('100111'), tuple('100101')] \n",
    "initial_genotype = initial_genotypes[0]\n",
    "noise_levels = np.logspace(-6,np.log10(0.5),30)"
   ]
  },
  {
   "cell_type": "code",
   "execution_count": 26,
   "metadata": {},
   "outputs": [
    {
     "name": "stdout",
     "output_type": "stream",
     "text": [
      "Bridges for NK K = 1\n",
      "(1, 1, 0, 1, 1, 0) 0.7465349225941939\n",
      "(1, 1, 1, 1, 1, 1) 0.7260897884697983\n",
      "Bridges for NK K = 3\n",
      "(0, 0, 0, 0, 1, 1) 0.5871860883146441\n",
      "(1, 0, 1, 1, 1, 0) 0.7611790349894924\n",
      "Bridges for NK K = 5\n",
      "(1, 1, 1, 1, 0, 1) 0.9560486040518809\n"
     ]
    }
   ],
   "source": [
    "print('Bridges for NK K = 1')\n",
    "\n",
    "for g1 in landscapes[1].keys():\n",
    "    if (hamming(tuple([str(x) for x in g1]), tuple(initial_genotypes[0])) == 2/6) and (landscapes[1][g1] > landscapes[1][tuple([int(x) for x in initial_genotype])]):\n",
    "        print(g1, landscapes[1][g1])\n",
    "        \n",
    "print('Bridges for NK K = 3')        \n",
    "for g1 in landscapes[3].keys():\n",
    "    if (hamming(tuple([str(x) for x in g1]), tuple(initial_genotypes[1])) == 2/6) and (landscapes[3][g1] > landscapes[3][tuple([int(x) for x in initial_genotypes[1]])]):\n",
    "        print(g1, landscapes[3][g1])\n",
    "   \n",
    "print('Bridges for NK K = 5') \n",
    "for g1 in landscapes[5].keys():\n",
    "    if (hamming(tuple([str(x) for x in g1]), tuple(initial_genotypes[2])) == 2/6) and (landscapes[5][g1] > landscapes[5][tuple([int(x) for x in initial_genotypes[2]])]):\n",
    "        print(g1, landscapes[5][g1])"
   ]
  },
  {
   "cell_type": "code",
   "execution_count": 27,
   "metadata": {},
   "outputs": [],
   "source": [
    "bridges_NK1 = ['111101','111110','111110','110100']\n",
    "bridges_NK3 = ['100011','000111','101111','100110']\n",
    "bridges_NK5 = ['110101','101101']"
   ]
  },
  {
   "cell_type": "markdown",
   "metadata": {},
   "source": [
    "### Appearance from numerical simulations"
   ]
  },
  {
   "cell_type": "code",
   "execution_count": 28,
   "metadata": {},
   "outputs": [],
   "source": [
    "def probability_appearance_numerical(mu, tau, all_genotypes, bridges, pop):\n",
    "    m1_indexes = [all_genotypes.index((0, tuple(b))) for b in bridges]\n",
    "    M1_indexes = [all_genotypes.index((1, tuple(b))) for b in bridges]\n",
    "    from_m1 = np.sum(np.array([pop[i]*mu*((1-mu)**5) for i in m1_indexes]))\n",
    "    from_M1 =  np.sum(np.array([pop[i]*tau*mu*((1-tau*mu)**5) for i in M1_indexes]))\n",
    "    \n",
    "    return(from_m1+from_M1)"
   ]
  },
  {
   "cell_type": "code",
   "execution_count": 29,
   "metadata": {},
   "outputs": [
    {
     "data": {
      "text/plain": [
       "0.5000000000000001"
      ]
     },
     "execution_count": 29,
     "metadata": {},
     "output_type": "execute_result"
    }
   ],
   "source": [
    "np.sum(landscape_1_results[2]['result'][29]['pop'][64:])"
   ]
  },
  {
   "cell_type": "code",
   "execution_count": 30,
   "metadata": {},
   "outputs": [
    {
     "data": {
      "text/plain": [
       "0.0008866313957970564"
      ]
     },
     "execution_count": 30,
     "metadata": {},
     "output_type": "execute_result"
    }
   ],
   "source": [
    "noise_levels[15]"
   ]
  },
  {
   "cell_type": "code",
   "execution_count": 31,
   "metadata": {},
   "outputs": [],
   "source": [
    "mu = landscape_1_results[2]['mu']\n",
    "tau = landscape_1_results[2]['tau']\n",
    "pop_size = 100000"
   ]
  },
  {
   "cell_type": "code",
   "execution_count": 32,
   "metadata": {},
   "outputs": [
    {
     "data": {
      "text/plain": [
       "10"
      ]
     },
     "execution_count": 32,
     "metadata": {},
     "output_type": "execute_result"
    }
   ],
   "source": [
    "tau"
   ]
  },
  {
   "cell_type": "code",
   "execution_count": 33,
   "metadata": {},
   "outputs": [
    {
     "data": {
      "text/plain": [
       "0.9810987861188084"
      ]
     },
     "execution_count": 33,
     "metadata": {},
     "output_type": "execute_result"
    }
   ],
   "source": [
    "pearsonr(appearance_num_NK3, appearance_sim_NK3)[0]**2"
   ]
  },
  {
   "cell_type": "code",
   "execution_count": 34,
   "metadata": {},
   "outputs": [],
   "source": [
    "appearance_num_NK1 = [pop_size*probability_appearance_numerical(mu, tau, all_genotypes, bridges_NK1, landscape_1_results[2]['result'][i]['pop']) for i in range(30)]\n",
    "appearance_sim_NK1 = [pop_size*calculate_rate_appearance_approximation(noise_levels[i], mu, tau, 0.07513436744009738, bridges_NK1) for i in range(30)]\n",
    "appearance_num_NK3 = [pop_size*probability_appearance_numerical(mu, tau, all_genotypes, bridges_NK3, landscape_3_results[2]['result'][i]['pop']) for i in range(30)]\n",
    "appearance_sim_NK3 = [pop_size*calculate_rate_appearance_approximation(noise_levels[i], mu, tau, 0.044263562977290435, bridges_NK3) for i in range(30)]\n",
    "appearance_num_NK5 = [2*1000000*probability_appearance_numerical(mu, tau, all_genotypes, bridges_NK5, landscape_5_results[2]['result'][i]['pop']) for i in range(30)]\n",
    "appearance_sim_NK5 = [2*1000000*calculate_rate_appearance_approximation(noise_levels[i], mu, tau, 0.5955574364770879, bridges_NK5) for i in range(30)]"
   ]
  },
  {
   "cell_type": "code",
   "execution_count": 35,
   "metadata": {},
   "outputs": [],
   "source": [
    "def mle(X):\n",
    "    p_hat = 1/X.mean()\n",
    "    p_hat = p_hat - p_hat * (1 - p_hat) / X.size\n",
    "    return p_hat\n",
    "\n",
    "def loglik(p, X):\n",
    "    return st.geom(p).logpmf(X).mean()\n",
    "\n",
    "def draw(p, X):\n",
    "    x = np.zeros(500)\n",
    "    x[:475] = X.copy()\n",
    "    ## because the geom dist is memoryless\n",
    "    x[475:] = X.max() + np.random.geometric(p, size=25)\n",
    "    return x\n",
    "\n",
    "def estimation_p(X):\n",
    "    x = 0\n",
    "    n = 5000\n",
    "    loguniforms = np.log(np.random.random(size=n))\n",
    "    p_hats = np.zeros(n)\n",
    "    logliks = np.zeros(n)\n",
    "    accept = 0\n",
    "    t = 0\n",
    "    p_hats[t] = mle(X)\n",
    "    logliks[t] = loglik(p_hats[t], x)    \n",
    "    \n",
    "    for t in range(1, n):\n",
    "        x = draw(p_hats[t-1], X)\n",
    "        p_hats[t] = mle(x)\n",
    "        logliks[t] = loglik(p_hats[t], x)\n",
    "        logα = logliks[t] - logliks[t-1] # log(lik / lik)\n",
    "        # accept / reject\n",
    "        if logα > loguniforms[t]: # accept (uniform is lower than α with probability α )\n",
    "            accept += 1\n",
    "        else: # reject\n",
    "            p_hats[t] = p_hats[t-1]\n",
    "            logliks[t] = logliks[t-1]\n",
    "            \n",
    "    print('acceptance rate:', accept/n)  \n",
    "    \n",
    "    return(np.quantile(p_hats[n//2:],0.05), np.quantile(p_hats[n//2:],0.95), np.mean(p_hats[n//2:]))\n",
    "\n",
    "def estimate_mean(X):\n",
    "    p_hat = 1/X.mean()\n",
    "    p_hat = p_hat - p_hat * (1 - p_hat) / X.size\n",
    "    return(p_hat)\n",
    "\n",
    "def construct_total_errorbars(estimates, raw_errorbars):\n",
    "    \n",
    "    raw_errors = np.array(raw_errorbars).T\n",
    "    raw_errors[0] = np.abs(raw_errors[0]-np.array(estimates))\n",
    "    raw_errors[1] = np.abs(raw_errors[1]-np.array(estimates))\n",
    "    \n",
    "    return(raw_errors)"
   ]
  },
  {
   "cell_type": "code",
   "execution_count": 48,
   "metadata": {},
   "outputs": [],
   "source": [
    "appearances_NK1[-3].remove(0)"
   ]
  },
  {
   "cell_type": "code",
   "execution_count": 49,
   "metadata": {},
   "outputs": [
    {
     "name": "stdout",
     "output_type": "stream",
     "text": [
      "acceptance rate: 0.9938\n",
      "acceptance rate: 0.9946\n",
      "acceptance rate: 0.9944\n",
      "acceptance rate: 0.9944\n",
      "acceptance rate: 0.9946\n",
      "acceptance rate: 0.9934\n",
      "acceptance rate: 0.9952\n",
      "acceptance rate: 0.9938\n",
      "acceptance rate: 0.9948\n",
      "acceptance rate: 0.9964\n",
      "acceptance rate: 0.995\n",
      "acceptance rate: 0.991\n",
      "acceptance rate: 0.9944\n",
      "acceptance rate: 0.994\n",
      "acceptance rate: 0.9944\n",
      "acceptance rate: 0.9946\n",
      "acceptance rate: 0.9946\n",
      "acceptance rate: 0.9938\n",
      "acceptance rate: 0.9934\n",
      "acceptance rate: 0.9928\n",
      "acceptance rate: 0.9952\n",
      "acceptance rate: 0.9964\n",
      "acceptance rate: 0.9926\n",
      "acceptance rate: 0.996\n",
      "acceptance rate: 0.9956\n",
      "acceptance rate: 0.9942\n",
      "acceptance rate: 0.9942\n"
     ]
    }
   ],
   "source": [
    "error_bars_and_mean_NK5 =  [estimation_p(np.array(result)[:475]) for result in appearances_NK5]\n",
    "error_bars_and_mean_NK3 =  [estimation_p(np.array(result)[:475]) for result in appearances_NK3]\n",
    "error_bars_and_mean_NK1 =  [estimation_p(np.array(result)[:475]) for result in appearances_NK1]"
   ]
  },
  {
   "cell_type": "code",
   "execution_count": 50,
   "metadata": {},
   "outputs": [],
   "source": [
    "error_bars_NK5 = [x[:2] for x in error_bars_and_mean_NK5]\n",
    "all_estimated_v_NK5 = [result[2] for result in error_bars_and_mean_NK5]\n",
    "\n",
    "error_bars_NK3 = [x[:2] for x in error_bars_and_mean_NK3]\n",
    "all_estimated_v_NK3 = [result[2] for result in error_bars_and_mean_NK3]\n",
    "\n",
    "error_bars_NK1 = [x[:2] for x in error_bars_and_mean_NK1]\n",
    "all_estimated_v_NK1 = [result[2] for result in error_bars_and_mean_NK1]"
   ]
  },
  {
   "cell_type": "code",
   "execution_count": 54,
   "metadata": {},
   "outputs": [
    {
     "data": {
      "image/png": "[encoded data removed]",
      "text/plain": [
       "<Figure size 1440x360 with 3 Axes>"
      ]
     },
     "metadata": {
      "needs_background": "light"
     },
     "output_type": "display_data"
    }
   ],
   "source": [
    "fig, ax = plt.subplots(1,3, figsize = (20,5))\n",
    "short_noise_levels = [noise_levels[x] for x in np.arange(5,30,3)]\n",
    "ax[2].plot(noise_levels, appearance_num_NK5)\n",
    "ax[2].plot(noise_levels, appearance_sim_NK5)\n",
    "ax[2].scatter(short_noise_levels, all_estimated_v_NK5, marker = '*', c='red')\n",
    "ax[2].errorbar(short_noise_levels, all_estimated_v_NK5, construct_total_errorbars(all_estimated_v_NK5, error_bars_NK5), linestyle = '', c = 'k')\n",
    "ax[2].set_xscale('log')\n",
    "ax[2].set_title('NK Landscape k = 5', fontsize = 16)\n",
    "ax[2].set_xlabel('Switching Rate γ', fontsize = 16)\n",
    "\n",
    "\n",
    "short_noise_levels = [noise_levels[x] for x in np.arange(5,30,3)]\n",
    "ax[1].plot(noise_levels, appearance_num_NK3)\n",
    "ax[1].plot(noise_levels, appearance_sim_NK3)\n",
    "ax[1].scatter(short_noise_levels, all_estimated_v_NK3, marker = '*', c='red')\n",
    "ax[1].errorbar(short_noise_levels, all_estimated_v_NK3, construct_total_errorbars(all_estimated_v_NK3, error_bars_NK3), linestyle = '', c = 'k')\n",
    "ax[1].set_xscale('log')\n",
    "ax[1].set_title('NK Landscape k = 3', fontsize = 16)\n",
    "ax[1].set_xlabel('Switching Rate γ', fontsize = 16)\n",
    "\n",
    "short_noise_levels = [noise_levels[x] for x in np.arange(5,30,3)]\n",
    "ax[0].plot(noise_levels, appearance_num_NK1)\n",
    "ax[0].plot(noise_levels, appearance_sim_NK1)\n",
    "ax[0].scatter(short_noise_levels, all_estimated_v_NK1, marker = '*', c='red')\n",
    "ax[0].errorbar(short_noise_levels, all_estimated_v_NK1, construct_total_errorbars(all_estimated_v_NK1, error_bars_NK1), linestyle = '', c = 'k')\n",
    "ax[0].set_xscale('log')\n",
    "ax[0].set_title('NK Landscape k = 1', fontsize = 16)\n",
    "ax[0].set_xlabel('Switching Rate γ', fontsize = 16)\n",
    "ax[0].set_ylabel('Appearance Rate of \\n an Double Mutant', fontsize = 16)\n",
    "\n",
    "plt.tight_layout()\n",
    "plt.savefig('NK_crossing_valley_MAY11.jpg', dpi = 400)"
   ]
  },
  {
   "cell_type": "code",
   "execution_count": 61,
   "metadata": {},
   "outputs": [
    {
     "data": {
      "text/plain": [
       "0.9857169213597269"
      ]
     },
     "execution_count": 61,
     "metadata": {},
     "output_type": "execute_result"
    }
   ],
   "source": [
    "pearsonr(appearance_num_NK5, appearance_sim_NK5)[0]"
   ]
  },
  {
   "cell_type": "code",
   "execution_count": 62,
   "metadata": {},
   "outputs": [
    {
     "data": {
      "text/plain": [
       "0.9925714186608084"
      ]
     },
     "execution_count": 62,
     "metadata": {},
     "output_type": "execute_result"
    }
   ],
   "source": [
    "pearsonr(appearance_num_NK1, appearance_sim_NK1)[0]"
   ]
  },
  {
   "cell_type": "code",
   "execution_count": 63,
   "metadata": {},
   "outputs": [
    {
     "data": {
      "text/plain": [
       "0.9905043089854827"
      ]
     },
     "execution_count": 63,
     "metadata": {},
     "output_type": "execute_result"
    }
   ],
   "source": [
    "pearsonr(appearance_num_NK3, appearance_sim_NK3)[0]"
   ]
  },
  {
   "cell_type": "code",
   "execution_count": 64,
   "metadata": {},
   "outputs": [],
   "source": [
    "appearance_sim_NK5 = [1000000*calculate_rate_appearance_approximation(noise_levels[i], mu, tau, 0.5955574364770879, bridges_NK5) for i in range(30)]"
   ]
  },
  {
   "cell_type": "code",
   "execution_count": 16,
   "metadata": {},
   "outputs": [],
   "source": [
    "def calculate_rate_appearance_approximation(noise, mu, tau, s, bridges):\n",
    "    B = len(bridges)\n",
    "    \n",
    "    M1 = calculate_M1(noise, mu*6,tau,s)\n",
    "    m1 = calculate_m1(noise, mu*6,tau,s)\n",
    "    \n",
    "    from_M1 = (B/6)*tau*mu*((1-tau*mu)**5)*M1\n",
    "    from_m1 = (B/6)*mu*((1-mu)**5)*m1\n",
    "    \n",
    "    #return(from_M1+from_m1)\n",
    "    return(from_M1)"
   ]
  }
 ],
 "metadata": {
  "kernelspec": {
   "display_name": "Python 3",
   "language": "python",
   "name": "python3"
  },
  "language_info": {
   "codemirror_mode": {
    "name": "ipython",
    "version": 3
   },
   "file_extension": ".py",
   "mimetype": "text/x-python",
   "name": "python",
   "nbconvert_exporter": "python",
   "pygments_lexer": "ipython3",
   "version": "3.8.8"
  }
 },
 "nbformat": 4,
 "nbformat_minor": 2
}
