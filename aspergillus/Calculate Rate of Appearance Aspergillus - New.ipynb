{
 "cells": [
  {
   "cell_type": "code",
   "execution_count": 21,
   "metadata": {},
   "outputs": [],
   "source": [
    "import numpy as np\n",
    "from aspergillus_msb import *\n",
    "import pickle\n",
    "from sklearn.model_selection import ParameterGrid\n",
    "import matplotlib.pyplot as plt\n",
    "import time\n",
    "from aspergillus_msb import *\n",
    "from adaptation_rate_calculation import *\n",
    "import os\n",
    "import pandas as pd\n",
    "from collections import Counter\n",
    "from scipy.optimize import curve_fit"
   ]
  },
  {
   "cell_type": "code",
   "execution_count": 29,
   "metadata": {},
   "outputs": [],
   "source": [
    "with open('aspergillus_landscape.txt', 'rb') as f:\n",
    "    landscape = pickle.load(f)\n",
    "landscape['00011010'] = 0.0\n",
    "with open('local_maxima_aspergillus.txt', 'rb') as f:\n",
    "    local_maxima = pickle.load(f)\n",
    "file = 'results_aspergillus_msb_2.txt'\n",
    "with open(file, 'rb') as f:\n",
    "    results = pickle.load(f)"
   ]
  },
  {
   "cell_type": "code",
   "execution_count": 3,
   "metadata": {},
   "outputs": [],
   "source": [
    "genotypes = [tuple(x) for x in landscape.keys()]\n",
    "\n",
    "all_genotypes = []\n",
    "for i in range(2):\n",
    "    for g in genotypes:\n",
    "        all_genotypes.append((i, g))\n",
    "        \n",
    "params = {'mu': [1e-7, 1e-6, 1e-5], 'tau': [10, 100]}\n",
    "params = list(ParameterGrid(params))\n",
    "initial_genotype = tuple(list(local_maxima.keys())[2])\n",
    "noise_levels = np.logspace(-6,np.log10(0.5), 30)"
   ]
  },
  {
   "cell_type": "code",
   "execution_count": 4,
   "metadata": {},
   "outputs": [],
   "source": [
    "population = results[4]['result'][0]['pop']\n",
    "mu, tau = results[4]['mu'], results[4]['tau']"
   ]
  },
  {
   "cell_type": "code",
   "execution_count": 33,
   "metadata": {},
   "outputs": [],
   "source": [
    "def calculate_rate_appearance_approximation(noise, mu, tau, s, bridges):\n",
    "    B = len(bridges)\n",
    "    \n",
    "    M1 = calculate_M1(noise, mu*8,tau,s)\n",
    "    m1 = calculate_m1(noise, mu*8,tau,s)\n",
    "    \n",
    "    from_M1 = (B/8)*tau*mu*((1-tau*mu)**5)*M1\n",
    "    from_m1 = (B/8)*mu*((1-mu)**5)*m1\n",
    "    \n",
    "    #return(from_M1+from_m1)\n",
    "    return(from_M1)\n",
    "\n",
    "def calculate_rate_appearance(all_genotypes, results, landscape, param, noise):\n",
    "   \n",
    "    mu, tau = results[param]['mu'], results[param]['tau']\n",
    "    population = results[param]['result'][noise]['pop']\n",
    "    genotypes = [tuple(x) for x in landscape.keys()]\n",
    "    \n",
    "    # calculate possible adaptations\n",
    "    possible_dm = [g for g in genotypes if (hamming(g, list(initial_genotype)) == 2/len(initial_genotype)) and landscape[\"\".join(g)]>landscape[\"\".join(initial_genotype)]]\n",
    "\n",
    "    # calculate intermediate one mutants between adaptations\n",
    "    possible_inter = []\n",
    "    for dm in possible_dm:\n",
    "        intermediates = [g for g in genotypes if (hamming(g, list(initial_genotype)) == 1/len(initial_genotype)) and (hamming(g, list(dm)) == 1/len(initial_genotype))]\n",
    "        for i in intermediates:\n",
    "            for mr in range(2):\n",
    "                possible_inter.append((mr,i))\n",
    "\n",
    "    # calculate M1, m1\n",
    "    rate_appearance = 0\n",
    "    for inter in possible_inter:\n",
    "        index = all_genotypes.index(inter)\n",
    "        if inter[0] == 0:\n",
    "            rate_appearance += mu * ((1-mu)**(len(inter[1])-1)) * population[index]\n",
    "        elif inter[0] == 1:\n",
    "            rate_appearance += tau*mu * ((1-tau*mu)**(len(inter[1])-1)) * population[index]\n",
    "\n",
    "    # return rate of appearance\n",
    "    return(rate_appearance)"
   ]
  },
  {
   "cell_type": "code",
   "execution_count": 6,
   "metadata": {},
   "outputs": [],
   "source": [
    "bridges = ['10000000', '00010000', '10011000', '10000000', '10010001', '10000000', '11010000', '10011000']"
   ]
  },
  {
   "cell_type": "code",
   "execution_count": 7,
   "metadata": {},
   "outputs": [],
   "source": [
    "selection_coefficients =  0.15060240963855423"
   ]
  },
  {
   "cell_type": "code",
   "execution_count": 8,
   "metadata": {},
   "outputs": [],
   "source": [
    "M1_2 = [calculate_M1(noise_levels[x], 8*results[2]['mu'], results[2]['tau'],selection_coefficients) for x in range(30)]\n",
    "M1_3 = [calculate_M1(noise_levels[x], 8*results[3]['mu'], results[3]['tau'],selection_coefficients) for x in range(30)]\n",
    "\n",
    "m1_2 = [calculate_m1(noise_levels[x], 8*results[2]['mu'], results[2]['tau'],selection_coefficients) for x in range(30)]\n",
    "m1_3 = [calculate_m1(noise_levels[x], 8*results[3]['mu'], results[3]['tau'],selection_coefficients) for x in range(30)]"
   ]
  },
  {
   "cell_type": "code",
   "execution_count": 9,
   "metadata": {},
   "outputs": [],
   "source": [
    "approx_2 = 1e5*((np.array(m1_2) * results[2]['mu'] * (1-results[2]['mu'])**7) + (np.array(M1_2) * results[2]['mu']*results[2]['tau'] * (1-results[2]['mu']*results[2]['tau'])**7))"
   ]
  },
  {
   "cell_type": "markdown",
   "metadata": {},
   "source": [
    "### Comparison with Stochastic Simulations"
   ]
  },
  {
   "cell_type": "code",
   "execution_count": 11,
   "metadata": {},
   "outputs": [],
   "source": [
    "files = [x for x in os.listdir() if 'results_appearance' in x and '100000.' in x and 'msb_2' in x]\n",
    "\n",
    "# parsing\n",
    "param = int(files[0].split('_')[2])\n",
    "gamma = int(files[0].split('_')[3])\n",
    "popsize = int(files[0].split('_')[-1].split('.')[0])\n",
    "\n",
    "all_appearance_results = []\n",
    "all_results = {}\n",
    "for file in files:\n",
    "    with open(file, 'rb') as f:\n",
    "        result = pickle.load(f)\n",
    "        \n",
    "    param = int(file.split('_')[2])\n",
    "    gamma = int(file.split('_')[3])\n",
    "    popsize = int(file.split('_')[-1].split('.')[0])\n",
    "    \n",
    "    all_results[(param,gamma)] = result['appearances']\n",
    "    #all_results.append(result['appearances'])\n",
    "    \n",
    "    all_appearance_results.append({'param':param, 'gamma':gamma, 'popsize':popsize, 'appearance':np.mean(result['appearances']), 'arraya_appearance':result['appearances']})\n",
    "\n",
    "all_appearance_results_df = pd.DataFrame(all_appearance_results)\n",
    "\n",
    "param2_appearance = all_appearance_results_df[all_appearance_results_df['param'] == 2]\n",
    "param3_appearance = all_appearance_results_df[all_appearance_results_df['param'] == 3]"
   ]
  },
  {
   "cell_type": "code",
   "execution_count": 31,
   "metadata": {},
   "outputs": [],
   "source": [
    "param = 2\n",
    "noise = 4\n",
    "\n",
    "mu, tau = results[param]['mu'], results[param]['tau']\n",
    "population = results[param]['result'][noise]['pop']\n",
    "genotypes = [tuple(x) for x in landscape.keys()]\n",
    "\n",
    "# calculate possible adaptations\n",
    "possible_dm = [g for g in genotypes if (hamming(g, list(initial_genotype)) == 2/len(initial_genotype)) and landscape[\"\".join(g)]>landscape[\"\".join(initial_genotype)]]\n",
    "\n",
    "# calculate intermediate one mutants between adaptations\n",
    "possible_inter = []\n",
    "for dm in possible_dm:\n",
    "    intermediates = [g for g in genotypes if (hamming(g, list(initial_genotype)) == 1/len(initial_genotype)) and (hamming(g, list(dm)) == 1/len(initial_genotype))]\n",
    "    for i in intermediates:\n",
    "        for mr in range(2):\n",
    "            possible_inter.append((mr,i))"
   ]
  },
  {
   "cell_type": "code",
   "execution_count": 73,
   "metadata": {},
   "outputs": [
    {
     "data": {
      "text/plain": [
       "dict_keys([(2, 10), (2, 15), (2, 20), (2, 25), (2, 29), (2, 5)])"
      ]
     },
     "execution_count": 73,
     "metadata": {},
     "output_type": "execute_result"
    }
   ],
   "source": [
    "all_results.keys()"
   ]
  },
  {
   "cell_type": "code",
   "execution_count": 74,
   "metadata": {},
   "outputs": [],
   "source": [
    "short_noise_indexes = [5,10,15,20,25,29]"
   ]
  },
  {
   "cell_type": "code",
   "execution_count": 85,
   "metadata": {},
   "outputs": [
    {
     "data": {
      "image/png": "[encoded data removed]",
      "text/plain": [
       "<Figure size 432x288 with 1 Axes>"
      ]
     },
     "metadata": {
      "needs_background": "light"
     },
     "output_type": "display_data"
    }
   ],
   "source": [
    "plt.plot(noise_levels, [1e5*calculate_rate_appearance(all_genotypes, results, landscape, 2, noise) for noise in range(30)], linewidth = '1.5')\n",
    "plt.scatter([noise_levels[x] for x in [5,10,15,20,25,29]], all_estimated_v, c = 'r', marker = '*')\n",
    "#plt.plot(noise_levels, 8*(4/28)*approx_2)\n",
    "#plt.errorbar([noise_levels[5], noise_levels[10], noise_levels[15], noise_levels[20], noise_levels[25], noise_levels[29]],  [1/int(param2_appearance['appearance'][param2_appearance['gamma'] == g]) for g in [5,10,15,20,25,29]],new_error_bars, linestyle = '', c = 'k')\n",
    "plt.plot(noise_levels, approx_2)\n",
    "plt.xscale('log')"
   ]
  },
  {
   "cell_type": "code",
   "execution_count": 87,
   "metadata": {},
   "outputs": [],
   "source": [
    "aspergillus_data = {'numerical': [1e5*calculate_rate_appearance(all_genotypes, results, landscape, 2, noise) for noise in range(30)], 'approx': approx_2, 'simulations': all_estimated_v}"
   ]
  },
  {
   "cell_type": "code",
   "execution_count": 88,
   "metadata": {},
   "outputs": [],
   "source": [
    "with open('aspergillus_appearance_data_geom_sampling.txt', 'wb') as f:\n",
    "    pickle.dump(aspergillus_data, f)"
   ]
  },
  {
   "cell_type": "code",
   "execution_count": null,
   "metadata": {},
   "outputs": [],
   "source": []
  }
 ],
 "metadata": {
  "kernelspec": {
   "display_name": "Python 3",
   "language": "python",
   "name": "python3"
  },
  "language_info": {
   "codemirror_mode": {
    "name": "ipython",
    "version": 3
   },
   "file_extension": ".py",
   "mimetype": "text/x-python",
   "name": "python",
   "nbconvert_exporter": "python",
   "pygments_lexer": "ipython3",
   "version": "3.8.8"
  }
 },
 "nbformat": 4,
 "nbformat_minor": 2
}
